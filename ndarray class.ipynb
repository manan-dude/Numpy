{
 "cells": [
  {
   "cell_type": "markdown",
   "id": "58d4a28d",
   "metadata": {},
   "source": [
    "# ndarray class\n"
   ]
  },
  {
   "cell_type": "code",
   "execution_count": 2,
   "id": "df202bc6",
   "metadata": {},
   "outputs": [],
   "source": [
    "import numpy as np\n",
    "# np = numpy\n"
   ]
  },
  {
   "cell_type": "code",
   "execution_count": 3,
   "id": "a6b36db8",
   "metadata": {},
   "outputs": [],
   "source": [
    "data = np.array(([3,2],[4,5],[6,5]))\n"
   ]
  },
  {
   "cell_type": "code",
   "execution_count": 4,
   "id": "4f55ab45",
   "metadata": {},
   "outputs": [
    {
     "data": {
      "text/plain": [
       "numpy.ndarray"
      ]
     },
     "execution_count": 4,
     "metadata": {},
     "output_type": "execute_result"
    }
   ],
   "source": [
    "type(data)\n"
   ]
  },
  {
   "cell_type": "code",
   "execution_count": 5,
   "id": "84b227c6",
   "metadata": {},
   "outputs": [
    {
     "data": {
      "text/plain": [
       "array([[3, 2],\n",
       "       [4, 5],\n",
       "       [6, 5]])"
      ]
     },
     "execution_count": 5,
     "metadata": {},
     "output_type": "execute_result"
    }
   ],
   "source": [
    "data\n"
   ]
  },
  {
   "cell_type": "markdown",
   "id": "07aa9316",
   "metadata": {},
   "source": [
    "**Basic Attributes of ndarray class**\n"
   ]
  },
  {
   "cell_type": "code",
   "execution_count": 6,
   "id": "3beeeb60",
   "metadata": {},
   "outputs": [
    {
     "data": {
      "text/plain": [
       "2"
      ]
     },
     "execution_count": 6,
     "metadata": {},
     "output_type": "execute_result"
    }
   ],
   "source": [
    "data.ndim #Number of dimensions (axes)."
   ]
  },
  {
   "cell_type": "code",
   "execution_count": 7,
   "id": "036e585e",
   "metadata": {},
   "outputs": [
    {
     "data": {
      "text/plain": [
       "(3, 2)"
      ]
     },
     "execution_count": 7,
     "metadata": {},
     "output_type": "execute_result"
    }
   ],
   "source": [
    "data.shape # A tuple that contains the number of elements (i.e., the length) for each dimension (axis) of the array"
   ]
  },
  {
   "cell_type": "code",
   "execution_count": 8,
   "id": "783b4085",
   "metadata": {},
   "outputs": [
    {
     "data": {
      "text/plain": [
       "6"
      ]
     },
     "execution_count": 8,
     "metadata": {},
     "output_type": "execute_result"
    }
   ],
   "source": [
    "data.size #The total number elements in the array"
   ]
  },
  {
   "cell_type": "code",
   "execution_count": 9,
   "id": "81b3b46f",
   "metadata": {},
   "outputs": [
    {
     "data": {
      "text/plain": [
       "dtype('int32')"
      ]
     },
     "execution_count": 9,
     "metadata": {},
     "output_type": "execute_result"
    }
   ],
   "source": [
    "data.dtype # Type of elements in array"
   ]
  },
  {
   "cell_type": "code",
   "execution_count": 10,
   "id": "bf5b7892",
   "metadata": {},
   "outputs": [
    {
     "data": {
      "text/plain": [
       "24"
      ]
     },
     "execution_count": 10,
     "metadata": {},
     "output_type": "execute_result"
    }
   ],
   "source": [
    "data.nbytes # Number of bytes used to store a data."
   ]
  },
  {
   "cell_type": "code",
   "execution_count": 17,
   "id": "2347082f",
   "metadata": {},
   "outputs": [],
   "source": [
    "a = np.array([1,2,3], dtype= np.int32)"
   ]
  },
  {
   "cell_type": "code",
   "execution_count": 18,
   "id": "90addabf",
   "metadata": {},
   "outputs": [
    {
     "data": {
      "text/plain": [
       "array([1, 2, 3])"
      ]
     },
     "execution_count": 18,
     "metadata": {},
     "output_type": "execute_result"
    }
   ],
   "source": [
    "a"
   ]
  },
  {
   "cell_type": "code",
   "execution_count": 20,
   "id": "f693f151",
   "metadata": {},
   "outputs": [
    {
     "data": {
      "text/plain": [
       "array([1., 2., 3.], dtype=float32)"
      ]
     },
     "execution_count": 20,
     "metadata": {},
     "output_type": "execute_result"
    }
   ],
   "source": [
    "np.array([1,2,3] , dtype = np.float32)"
   ]
  },
  {
   "cell_type": "code",
   "execution_count": 22,
   "id": "c8a9e533",
   "metadata": {},
   "outputs": [
    {
     "data": {
      "text/plain": [
       "array([1.+0.j, 2.+0.j, 3.+0.j])"
      ]
     },
     "execution_count": 22,
     "metadata": {},
     "output_type": "execute_result"
    }
   ],
   "source": [
    "np.array([1,2,3] , dtype = np.complex128)"
   ]
  },
  {
   "cell_type": "markdown",
   "id": "6d4222d7",
   "metadata": {},
   "source": [
    "**astype**"
   ]
  },
  {
   "cell_type": "code",
   "execution_count": 26,
   "id": "44f2c0dc",
   "metadata": {},
   "outputs": [],
   "source": [
    "data = np.array([1.,2.,3.] ) # alaways write data type of array bcz its help in arithmatic operations."
   ]
  },
  {
   "cell_type": "code",
   "execution_count": 50,
   "id": "a3967f4a",
   "metadata": {},
   "outputs": [
    {
     "data": {
      "text/plain": [
       "array([[3, 2],\n",
       "       [4, 5],\n",
       "       [6, 5]])"
      ]
     },
     "execution_count": 50,
     "metadata": {},
     "output_type": "execute_result"
    }
   ],
   "source": [
    "data.astype(np.int32)"
   ]
  },
  {
   "cell_type": "code",
   "execution_count": 28,
   "id": "2a965e06",
   "metadata": {},
   "outputs": [],
   "source": [
    "x = np.array([-1,0,1])"
   ]
  },
  {
   "cell_type": "code",
   "execution_count": 29,
   "id": "8a30d613",
   "metadata": {},
   "outputs": [
    {
     "name": "stderr",
     "output_type": "stream",
     "text": [
      "<ipython-input-29-0b43c7e80401>:1: RuntimeWarning: invalid value encountered in sqrt\n",
      "  np.sqrt(x)\n"
     ]
    },
    {
     "data": {
      "text/plain": [
       "array([nan,  0.,  1.])"
      ]
     },
     "execution_count": 29,
     "metadata": {},
     "output_type": "execute_result"
    }
   ],
   "source": [
    "np.sqrt(x)"
   ]
  },
  {
   "cell_type": "code",
   "execution_count": 30,
   "id": "a78ffdd6",
   "metadata": {},
   "outputs": [
    {
     "data": {
      "text/plain": [
       "array([0.+1.j, 0.+0.j, 1.+0.j])"
      ]
     },
     "execution_count": 30,
     "metadata": {},
     "output_type": "execute_result"
    }
   ],
   "source": [
    "np.sqrt(x , dtype = np.complex128)"
   ]
  },
  {
   "cell_type": "markdown",
   "id": "f8644a6c",
   "metadata": {},
   "source": [
    "## Real and Imaginary Parts"
   ]
  },
  {
   "cell_type": "code",
   "execution_count": 31,
   "id": "c8d037d0",
   "metadata": {},
   "outputs": [],
   "source": [
    "data = np.array([1, 2, 3], dtype=complex)"
   ]
  },
  {
   "cell_type": "code",
   "execution_count": 32,
   "id": "827a9185",
   "metadata": {},
   "outputs": [
    {
     "data": {
      "text/plain": [
       "array([1.+0.j, 2.+0.j, 3.+0.j])"
      ]
     },
     "execution_count": 32,
     "metadata": {},
     "output_type": "execute_result"
    }
   ],
   "source": [
    "data"
   ]
  },
  {
   "cell_type": "code",
   "execution_count": 34,
   "id": "e8b8b645",
   "metadata": {},
   "outputs": [
    {
     "data": {
      "text/plain": [
       "array([1., 2., 3.])"
      ]
     },
     "execution_count": 34,
     "metadata": {},
     "output_type": "execute_result"
    }
   ],
   "source": [
    "data.real"
   ]
  },
  {
   "cell_type": "code",
   "execution_count": 35,
   "id": "f3629a01",
   "metadata": {},
   "outputs": [
    {
     "data": {
      "text/plain": [
       "array([0., 0., 0.])"
      ]
     },
     "execution_count": 35,
     "metadata": {},
     "output_type": "execute_result"
    }
   ],
   "source": [
    "data.imag"
   ]
  },
  {
   "cell_type": "code",
   "execution_count": 6,
   "id": "86ee8ad3",
   "metadata": {},
   "outputs": [
    {
     "data": {
      "text/plain": [
       "array([[0., 0., 0.],\n",
       "       [0., 0., 0.],\n",
       "       [0., 0., 0.],\n",
       "       [0., 0., 0.]])"
      ]
     },
     "execution_count": 6,
     "metadata": {},
     "output_type": "execute_result"
    }
   ],
   "source": [
    "np.zeros((4,3))"
   ]
  },
  {
   "cell_type": "code",
   "execution_count": 38,
   "id": "ddcc59af",
   "metadata": {},
   "outputs": [
    {
     "data": {
      "text/plain": [
       "array([[1., 1.],\n",
       "       [1., 1.],\n",
       "       [1., 1.]])"
      ]
     },
     "execution_count": 38,
     "metadata": {},
     "output_type": "execute_result"
    }
   ],
   "source": [
    "np.ones((3,2))\n",
    "# By default, the data type is float64."
   ]
  },
  {
   "cell_type": "code",
   "execution_count": 8,
   "id": "a5885b53",
   "metadata": {},
   "outputs": [
    {
     "data": {
      "text/plain": [
       "array([[1.+0.j, 1.+0.j, 1.+0.j],\n",
       "       [1.+0.j, 1.+0.j, 1.+0.j],\n",
       "       [1.+0.j, 1.+0.j, 1.+0.j]])"
      ]
     },
     "execution_count": 8,
     "metadata": {},
     "output_type": "execute_result"
    }
   ],
   "source": [
    "np.ones((3,3)).astype(np.complex128)# you can also change the by default deta type ."
   ]
  },
  {
   "cell_type": "code",
   "execution_count": 42,
   "id": "7ef2918d",
   "metadata": {},
   "outputs": [
    {
     "data": {
      "text/plain": [
       "array([5.4, 5.4, 5.4, 5.4, 5.4, 5.4, 5.4, 5.4, 5.4, 5.4])"
      ]
     },
     "execution_count": 42,
     "metadata": {},
     "output_type": "execute_result"
    }
   ],
   "source": [
    "np.ones(10)*5.4"
   ]
  },
  {
   "cell_type": "code",
   "execution_count": 43,
   "id": "3eee7d42",
   "metadata": {},
   "outputs": [
    {
     "data": {
      "text/plain": [
       "array([5.4, 5.4, 5.4, 5.4, 5.4, 5.4, 5.4, 5.4, 5.4, 5.4])"
      ]
     },
     "execution_count": 43,
     "metadata": {},
     "output_type": "execute_result"
    }
   ],
   "source": [
    "np.full(10,5.4)#**"
   ]
  },
  {
   "cell_type": "markdown",
   "id": "745c0d0a",
   "metadata": {},
   "source": [
    "**Note :**  code of lines 42 and 43  are same."
   ]
  },
  {
   "cell_type": "code",
   "execution_count": 48,
   "id": "e96ffe2a",
   "metadata": {},
   "outputs": [],
   "source": [
    " x = np.empty(5) # we can also use this method also.\n",
    " "
   ]
  },
  {
   "cell_type": "code",
   "execution_count": 49,
   "id": "be9a323e",
   "metadata": {},
   "outputs": [],
   "source": [
    "x.fill(3.)"
   ]
  },
  {
   "cell_type": "code",
   "execution_count": 50,
   "id": "275bae78",
   "metadata": {},
   "outputs": [
    {
     "data": {
      "text/plain": [
       "array([3., 3., 3., 3., 3.])"
      ]
     },
     "execution_count": 50,
     "metadata": {},
     "output_type": "execute_result"
    }
   ],
   "source": [
    "x"
   ]
  },
  {
   "cell_type": "markdown",
   "id": "aa113bf1",
   "metadata": {},
   "source": [
    "## Arrays Filled with Incremental Sequence"
   ]
  },
  {
   "cell_type": "code",
   "execution_count": 13,
   "id": "3a89e05f",
   "metadata": {},
   "outputs": [
    {
     "data": {
      "text/plain": [
       "array([0. , 0.5, 1. , 1.5, 2. , 2.5, 3. , 3.5, 4. , 4.5, 5. , 5.5, 6. ,\n",
       "       6.5, 7. , 7.5, 8. , 8.5, 9. , 9.5])"
      ]
     },
     "execution_count": 13,
     "metadata": {},
     "output_type": "execute_result"
    }
   ],
   "source": [
    "np.arange(0,10,0.5) "
   ]
  },
  {
   "cell_type": "markdown",
   "id": "3ea6ca7b",
   "metadata": {},
   "source": [
    "the first two arguments are the start and end values. The third argument of \n",
    "np.arange is the increment"
   ]
  },
  {
   "cell_type": "code",
   "execution_count": 14,
   "id": "4fb9b032",
   "metadata": {},
   "outputs": [
    {
     "data": {
      "text/plain": [
       "array([ 0., 10.])"
      ]
     },
     "execution_count": 14,
     "metadata": {},
     "output_type": "execute_result"
    }
   ],
   "source": [
    "np.linspace(0,10,2)"
   ]
  },
  {
   "cell_type": "markdown",
   "id": "70b3f632",
   "metadata": {},
   "source": [
    "while for np.linspace it is the total number of points \n",
    "in the array."
   ]
  },
  {
   "cell_type": "markdown",
   "id": "e2a4789d",
   "metadata": {},
   "source": [
    "## Arrays Filled with Logarithmic Sequences"
   ]
  },
  {
   "cell_type": "markdown",
   "id": "7610df3b",
   "metadata": {},
   "source": [
    "The function np.logspace is similar to np.linspace, but the increments between the \n",
    "elements in the array are logarithmically distributed, and the first two arguments, for \n",
    "the start and end values, are the powers of the optional base keyword argument (which \n",
    "defaults to 10). "
   ]
  },
  {
   "cell_type": "code",
   "execution_count": 12,
   "id": "a2af4e86",
   "metadata": {},
   "outputs": [
    {
     "data": {
      "text/plain": [
       "array([  1.        ,   3.16227766,  10.        ,  31.6227766 ,\n",
       "       100.        ])"
      ]
     },
     "execution_count": 12,
     "metadata": {},
     "output_type": "execute_result"
    }
   ],
   "source": [
    "np.logspace(0,2,5)"
   ]
  },
  {
   "cell_type": "markdown",
   "id": "67410ce5",
   "metadata": {},
   "source": [
    "**np.logspace(0, 2, 5) # 5 data points between 10^0=1 to 10^2=100**"
   ]
  },
  {
   "cell_type": "markdown",
   "id": "0137b3c6",
   "metadata": {},
   "source": [
    "**it is better to use np.zeros, to minimize the likelihood of subtle and hard-to\u0002reproduce bugs due to uninitialized values in the array returned by np.empty.**"
   ]
  },
  {
   "cell_type": "code",
   "execution_count": 23,
   "id": "3fae6fa3",
   "metadata": {},
   "outputs": [],
   "source": [
    "a = np.identity(4)"
   ]
  },
  {
   "cell_type": "code",
   "execution_count": 24,
   "id": "a01e15e8",
   "metadata": {},
   "outputs": [
    {
     "data": {
      "text/plain": [
       "array([[1., 0., 0., 0.],\n",
       "       [0., 1., 0., 0.],\n",
       "       [0., 0., 1., 0.],\n",
       "       [0., 0., 0., 1.]])"
      ]
     },
     "execution_count": 24,
     "metadata": {},
     "output_type": "execute_result"
    }
   ],
   "source": [
    "a"
   ]
  },
  {
   "cell_type": "markdown",
   "id": "516708e2",
   "metadata": {},
   "source": [
    "**The similar function numpy.eye generates matrices with ones on a diagonal \n",
    "(optionally offset)**"
   ]
  },
  {
   "cell_type": "code",
   "execution_count": 25,
   "id": "e8d4ace1",
   "metadata": {},
   "outputs": [
    {
     "data": {
      "text/plain": [
       "array([[0., 0., 1., 0.],\n",
       "       [0., 0., 0., 1.],\n",
       "       [0., 0., 0., 0.],\n",
       "       [0., 0., 0., 0.]])"
      ]
     },
     "execution_count": 25,
     "metadata": {},
     "output_type": "execute_result"
    }
   ],
   "source": [
    "np.eye(4,k=2)"
   ]
  },
  {
   "cell_type": "code",
   "execution_count": 26,
   "id": "bca23231",
   "metadata": {},
   "outputs": [
    {
     "data": {
      "text/plain": [
       "array([[0., 0., 1.],\n",
       "       [0., 0., 0.],\n",
       "       [0., 0., 0.]])"
      ]
     },
     "execution_count": 26,
     "metadata": {},
     "output_type": "execute_result"
    }
   ],
   "source": [
    "np.eye(3,k=2)"
   ]
  },
  {
   "cell_type": "code",
   "execution_count": 27,
   "id": "c40ce288",
   "metadata": {
    "scrolled": true
   },
   "outputs": [
    {
     "data": {
      "text/plain": [
       "array([[0., 0., 0.],\n",
       "       [1., 0., 0.],\n",
       "       [0., 1., 0.]])"
      ]
     },
     "execution_count": 27,
     "metadata": {},
     "output_type": "execute_result"
    }
   ],
   "source": [
    "np.eye(3,k=-1)"
   ]
  },
  {
   "cell_type": "markdown",
   "id": "97d6cbf8",
   "metadata": {},
   "source": [
    "**We can also build our own matrix of an arbitary one dimensional array on the diagonal, we can also use some keyword arguments in it  **"
   ]
  },
  {
   "cell_type": "code",
   "execution_count": 28,
   "id": "628d468c",
   "metadata": {},
   "outputs": [
    {
     "data": {
      "text/plain": [
       "array([[ 0,  0,  0,  0,  0,  0,  0,  0,  0,  0],\n",
       "       [ 0,  2,  0,  0,  0,  0,  0,  0,  0,  0],\n",
       "       [ 0,  0,  4,  0,  0,  0,  0,  0,  0,  0],\n",
       "       [ 0,  0,  0,  6,  0,  0,  0,  0,  0,  0],\n",
       "       [ 0,  0,  0,  0,  8,  0,  0,  0,  0,  0],\n",
       "       [ 0,  0,  0,  0,  0, 10,  0,  0,  0,  0],\n",
       "       [ 0,  0,  0,  0,  0,  0, 12,  0,  0,  0],\n",
       "       [ 0,  0,  0,  0,  0,  0,  0, 14,  0,  0],\n",
       "       [ 0,  0,  0,  0,  0,  0,  0,  0, 16,  0],\n",
       "       [ 0,  0,  0,  0,  0,  0,  0,  0,  0, 18]])"
      ]
     },
     "execution_count": 28,
     "metadata": {},
     "output_type": "execute_result"
    }
   ],
   "source": [
    "np.diag(np.arange(0,20,2))"
   ]
  },
  {
   "cell_type": "code",
   "execution_count": 29,
   "id": "743c886a",
   "metadata": {},
   "outputs": [
    {
     "data": {
      "text/plain": [
       "array([[ 0.,  0.],\n",
       "       [ 0., 20.]])"
      ]
     },
     "execution_count": 29,
     "metadata": {},
     "output_type": "execute_result"
    }
   ],
   "source": [
    "np.diag(np.linspace(0,20,2))"
   ]
  },
  {
   "cell_type": "code",
   "execution_count": 30,
   "id": "74e7ccc1",
   "metadata": {},
   "outputs": [
    {
     "data": {
      "text/plain": [
       "array([[1., 0., 0., 0.],\n",
       "       [0., 1., 0., 0.],\n",
       "       [0., 0., 1., 0.],\n",
       "       [0., 0., 0., 1.]])"
      ]
     },
     "execution_count": 30,
     "metadata": {},
     "output_type": "execute_result"
    }
   ],
   "source": [
    "a"
   ]
  },
  {
   "cell_type": "code",
   "execution_count": 31,
   "id": "22821187",
   "metadata": {},
   "outputs": [
    {
     "data": {
      "text/plain": [
       "(array([1., 0., 0., 0.]), array([0., 1., 0., 0.]), array([0., 0., 0., 1.]))"
      ]
     },
     "execution_count": 31,
     "metadata": {},
     "output_type": "execute_result"
    }
   ],
   "source": [
    "a[0],a[1],a[3] # a[m] where m is index  selecting element"
   ]
  },
  {
   "cell_type": "code",
   "execution_count": 16,
   "id": "f866618f",
   "metadata": {},
   "outputs": [
    {
     "data": {
      "text/plain": [
       "array([0., 0., 0., 1.])"
      ]
     },
     "execution_count": 16,
     "metadata": {},
     "output_type": "execute_result"
    }
   ],
   "source": [
    "a[-1] #last index starts from -1 and so on ."
   ]
  },
  {
   "cell_type": "code",
   "execution_count": 19,
   "id": "eadf0a4e",
   "metadata": {},
   "outputs": [
    {
     "data": {
      "text/plain": [
       "array([[1., 0., 0., 0.],\n",
       "       [0., 1., 0., 0.],\n",
       "       [0., 0., 1., 0.]])"
      ]
     },
     "execution_count": 19,
     "metadata": {},
     "output_type": "execute_result"
    }
   ],
   "source": [
    "a[0:3] # a[m:n] starting from m and ending to n-1"
   ]
  },
  {
   "cell_type": "code",
   "execution_count": 24,
   "id": "97a1184d",
   "metadata": {},
   "outputs": [
    {
     "data": {
      "text/plain": [
       "array([[1., 0., 0., 0.],\n",
       "       [0., 1., 0., 0.],\n",
       "       [0., 0., 1., 0.],\n",
       "       [0., 0., 0., 1.]])"
      ]
     },
     "execution_count": 24,
     "metadata": {},
     "output_type": "execute_result"
    }
   ],
   "source": [
    "a[:] # select all the elements"
   ]
  },
  {
   "cell_type": "code",
   "execution_count": 26,
   "id": "707620f6",
   "metadata": {},
   "outputs": [
    {
     "data": {
      "text/plain": [
       "array([[1., 0., 0., 0.],\n",
       "       [0., 0., 1., 0.]])"
      ]
     },
     "execution_count": 26,
     "metadata": {},
     "output_type": "execute_result"
    }
   ],
   "source": [
    "a[0:4:2] # a[m:n:p] Select elements with index m through n (exclusive), with increment p."
   ]
  },
  {
   "cell_type": "code",
   "execution_count": 27,
   "id": "1a2af3a0",
   "metadata": {},
   "outputs": [
    {
     "data": {
      "text/plain": [
       "array([[0., 0., 0., 1.],\n",
       "       [0., 0., 1., 0.],\n",
       "       [0., 1., 0., 0.],\n",
       "       [1., 0., 0., 0.]])"
      ]
     },
     "execution_count": 27,
     "metadata": {},
     "output_type": "execute_result"
    }
   ],
   "source": [
    "a[:: -1] # select all the elements in reverse "
   ]
  },
  {
   "cell_type": "markdown",
   "id": "baf99ac1",
   "metadata": {},
   "source": [
    "## Multidimensional Arrays"
   ]
  },
  {
   "cell_type": "code",
   "execution_count": 33,
   "id": "c421d0a2",
   "metadata": {},
   "outputs": [],
   "source": [
    "f = lambda n,m : n+10*m"
   ]
  },
  {
   "cell_type": "code",
   "execution_count": 34,
   "id": "a5901cfc",
   "metadata": {},
   "outputs": [],
   "source": [
    "a = np.fromfunction(f,(6,6),dtype = int)"
   ]
  },
  {
   "cell_type": "code",
   "execution_count": 35,
   "id": "783166d8",
   "metadata": {},
   "outputs": [
    {
     "data": {
      "text/plain": [
       "array([[ 0, 10, 20, 30, 40, 50],\n",
       "       [ 1, 11, 21, 31, 41, 51],\n",
       "       [ 2, 12, 22, 32, 42, 52],\n",
       "       [ 3, 13, 23, 33, 43, 53],\n",
       "       [ 4, 14, 24, 34, 44, 54],\n",
       "       [ 5, 15, 25, 35, 45, 55]])"
      ]
     },
     "execution_count": 35,
     "metadata": {},
     "output_type": "execute_result"
    }
   ],
   "source": [
    "a"
   ]
  },
  {
   "cell_type": "markdown",
   "id": "005a88c2",
   "metadata": {},
   "source": [
    "**We can extract columns and rows from this two-dimensional array using a \n",
    "combination of slice and integer indexing:**"
   ]
  },
  {
   "cell_type": "code",
   "execution_count": 36,
   "id": "039d4325",
   "metadata": {},
   "outputs": [
    {
     "data": {
      "text/plain": [
       "array([10, 11, 12, 13, 14, 15])"
      ]
     },
     "execution_count": 36,
     "metadata": {},
     "output_type": "execute_result"
    }
   ],
   "source": [
    "a[:,1]"
   ]
  },
  {
   "cell_type": "code",
   "execution_count": 37,
   "id": "bdfd48ee",
   "metadata": {},
   "outputs": [
    {
     "data": {
      "text/plain": [
       "array([20, 21, 22, 23, 24, 25])"
      ]
     },
     "execution_count": 37,
     "metadata": {},
     "output_type": "execute_result"
    }
   ],
   "source": [
    "a[:,2] # so we can add columns here according to our work."
   ]
  },
  {
   "cell_type": "markdown",
   "id": "d24c4a08",
   "metadata": {},
   "source": [
    "***Note*** - use a[:,n] for columns ,remember the comma"
   ]
  },
  {
   "cell_type": "code",
   "execution_count": 38,
   "id": "b4b4b43c",
   "metadata": {},
   "outputs": [
    {
     "data": {
      "text/plain": [
       "array([ 2, 12, 22, 32, 42, 52])"
      ]
     },
     "execution_count": 38,
     "metadata": {},
     "output_type": "execute_result"
    }
   ],
   "source": [
    "#a[2,:]\n",
    "a[2]\n"
   ]
  },
  {
   "cell_type": "code",
   "execution_count": 19,
   "id": "5e233af4",
   "metadata": {},
   "outputs": [
    {
     "data": {
      "text/plain": [
       "array([ 5, 15, 25, 35, 45, 55])"
      ]
     },
     "execution_count": 19,
     "metadata": {},
     "output_type": "execute_result"
    }
   ],
   "source": [
    "a[-1,:]"
   ]
  },
  {
   "cell_type": "markdown",
   "id": "558a24a8",
   "metadata": {},
   "source": [
    "***Note*** - use a[m,:] for rows ,remember the comma"
   ]
  },
  {
   "cell_type": "markdown",
   "id": "2a74fa98",
   "metadata": {},
   "source": [
    "#### we can extract subarrays also"
   ]
  },
  {
   "cell_type": "code",
   "execution_count": 20,
   "id": "6576850f",
   "metadata": {},
   "outputs": [
    {
     "data": {
      "text/plain": [
       "array([[ 0, 10, 20],\n",
       "       [ 1, 11, 21],\n",
       "       [ 2, 12, 22]])"
      ]
     },
     "execution_count": 20,
     "metadata": {},
     "output_type": "execute_result"
    }
   ],
   "source": [
    "a[:3,:3] # for sub(columns) and sub(rows) upper half diagonal block matrix"
   ]
  },
  {
   "cell_type": "code",
   "execution_count": 21,
   "id": "edc05e46",
   "metadata": {},
   "outputs": [
    {
     "data": {
      "text/plain": [
       "array([[33, 43, 53],\n",
       "       [34, 44, 54],\n",
       "       [35, 45, 55]])"
      ]
     },
     "execution_count": 21,
     "metadata": {},
     "output_type": "execute_result"
    }
   ],
   "source": [
    "a[3:,3:] # for lower half diagonal block matrix"
   ]
  },
  {
   "cell_type": "markdown",
   "id": "a6fe448d",
   "metadata": {},
   "source": [
    "you can also select your own matrix from matrix a"
   ]
  },
  {
   "cell_type": "code",
   "execution_count": 24,
   "id": "38faa1a5",
   "metadata": {},
   "outputs": [
    {
     "data": {
      "text/plain": [
       "array([[ 0, 30],\n",
       "       [ 3, 33]])"
      ]
     },
     "execution_count": 24,
     "metadata": {},
     "output_type": "execute_result"
    }
   ],
   "source": [
    "a[::3,::3] #every third element starting from 0, 0"
   ]
  },
  {
   "attachments": {
    "image.png": {
     "image/png": "[encoded data removed]"
    }
   },
   "cell_type": "markdown",
   "id": "3930dd75",
   "metadata": {},
   "source": [
    "**Note** - every n element starting from 0, 0 . a[::n , ::n]\n",
    "![image.png](attachment:image.png)"
   ]
  },
  {
   "cell_type": "markdown",
   "id": "d2b445f4",
   "metadata": {},
   "source": [
    "**When elements in a view are assigned new values, the values of the original array are therefore also updated.** "
   ]
  },
  {
   "cell_type": "code",
   "execution_count": 43,
   "id": "98bf0db9",
   "metadata": {},
   "outputs": [],
   "source": [
    "#for example :\n",
    "b = a[1:4 ,4:]\n"
   ]
  },
  {
   "attachments": {
    "image.png": {
     "image/png": "[encoded data removed]"
    }
   },
   "cell_type": "markdown",
   "id": "6e3a0d19",
   "metadata": {},
   "source": [
    "![image.png](attachment:image.png)"
   ]
  },
  {
   "cell_type": "code",
   "execution_count": 44,
   "id": "92f5ab41",
   "metadata": {},
   "outputs": [
    {
     "data": {
      "text/plain": [
       "array([[41, 51],\n",
       "       [42, 52],\n",
       "       [43, 53]])"
      ]
     },
     "execution_count": 44,
     "metadata": {},
     "output_type": "execute_result"
    }
   ],
   "source": [
    "b"
   ]
  },
  {
   "cell_type": "code",
   "execution_count": 45,
   "id": "a44c08fe",
   "metadata": {},
   "outputs": [],
   "source": [
    "b [:,:]= 0"
   ]
  },
  {
   "cell_type": "code",
   "execution_count": 46,
   "id": "f4423aa3",
   "metadata": {},
   "outputs": [
    {
     "data": {
      "text/plain": [
       "array([[ 0, 10, 20, 30, 40, 50],\n",
       "       [ 1, 11, 21, 31,  0,  0],\n",
       "       [ 2, 12, 22, 32,  0,  0],\n",
       "       [ 3, 13, 23, 33,  0,  0],\n",
       "       [ 4, 14, 24, 34, 44, 54],\n",
       "       [ 5, 15, 25, 35, 45, 55]])"
      ]
     },
     "execution_count": 46,
     "metadata": {},
     "output_type": "execute_result"
    }
   ],
   "source": [
    "a\n"
   ]
  },
  {
   "cell_type": "markdown",
   "id": "98be5d24",
   "metadata": {},
   "source": [
    "**here the value of a get updated \n",
    "  Here, assigning new values to the elements in an array B, which is created from \n",
    "the array A, also modifies the values in A (since both arrays refer to the same data \n",
    "in the memory)**\n"
   ]
  },
  {
   "cell_type": "code",
   "execution_count": 47,
   "id": "fe081320",
   "metadata": {},
   "outputs": [],
   "source": [
    "c= b[1:2,1:2].copy() "
   ]
  },
  {
   "cell_type": "code",
   "execution_count": 48,
   "id": "c07bd338",
   "metadata": {},
   "outputs": [
    {
     "data": {
      "text/plain": [
       "array([[0]])"
      ]
     },
     "execution_count": 48,
     "metadata": {},
     "output_type": "execute_result"
    }
   ],
   "source": [
    "c"
   ]
  },
  {
   "cell_type": "code",
   "execution_count": 43,
   "id": "83680017",
   "metadata": {},
   "outputs": [],
   "source": [
    "c[:,:] = 1"
   ]
  },
  {
   "cell_type": "code",
   "execution_count": 44,
   "id": "8d0cf1da",
   "metadata": {},
   "outputs": [
    {
     "data": {
      "text/plain": [
       "array([[1]])"
      ]
     },
     "execution_count": 44,
     "metadata": {},
     "output_type": "execute_result"
    }
   ],
   "source": [
    "c"
   ]
  },
  {
   "cell_type": "code",
   "execution_count": 47,
   "id": "fc38fcb8",
   "metadata": {},
   "outputs": [
    {
     "data": {
      "text/plain": [
       "array([[0, 0, 0],\n",
       "       [0, 0, 0],\n",
       "       [0, 0, 0]])"
      ]
     },
     "execution_count": 47,
     "metadata": {},
     "output_type": "execute_result"
    }
   ],
   "source": [
    "b"
   ]
  },
  {
   "cell_type": "markdown",
   "id": "ecde7235",
   "metadata": {},
   "source": [
    "## Fancy Indexing and Boolean-Valued Indexing"
   ]
  },
  {
   "cell_type": "markdown",
   "id": "1e44e88b",
   "metadata": {},
   "source": [
    "an array can be indexed with another NumPy array,\n",
    "a Python list, or a sequence of integers, whose \n",
    "values select elements in the indexed array."
   ]
  },
  {
   "cell_type": "code",
   "execution_count": 48,
   "id": "a31144f7",
   "metadata": {},
   "outputs": [],
   "source": [
    "a = np.linspace(0,1,11)"
   ]
  },
  {
   "cell_type": "code",
   "execution_count": 49,
   "id": "6a89e466",
   "metadata": {},
   "outputs": [
    {
     "data": {
      "text/plain": [
       "array([0. , 0.1, 0.2, 0.3, 0.4, 0.5, 0.6, 0.7, 0.8, 0.9, 1. ])"
      ]
     },
     "execution_count": 49,
     "metadata": {},
     "output_type": "execute_result"
    }
   ],
   "source": [
    "a"
   ]
  },
  {
   "cell_type": "code",
   "execution_count": 58,
   "id": "9a2e6e6c",
   "metadata": {},
   "outputs": [
    {
     "data": {
      "text/plain": [
       "array([0. , 0.2, 0.4, 0.8])"
      ]
     },
     "execution_count": 58,
     "metadata": {},
     "output_type": "execute_result"
    }
   ],
   "source": [
    "a[np.array([0,2,4,8])]"
   ]
  },
  {
   "cell_type": "code",
   "execution_count": 59,
   "id": "c828679b",
   "metadata": {},
   "outputs": [
    {
     "data": {
      "text/plain": [
       "array([0. , 0.2, 0.5])"
      ]
     },
     "execution_count": 59,
     "metadata": {},
     "output_type": "execute_result"
    }
   ],
   "source": [
    "a[np.array([0,2,5])]"
   ]
  },
  {
   "cell_type": "code",
   "execution_count": 62,
   "id": "49286264",
   "metadata": {},
   "outputs": [
    {
     "data": {
      "text/plain": [
       "array([0. , 0.2, 0.4])"
      ]
     },
     "execution_count": 62,
     "metadata": {},
     "output_type": "execute_result"
    }
   ],
   "source": [
    " a[[0, 2, 4]] # The same thing can be accomplished by indexing with a Python list"
   ]
  },
  {
   "cell_type": "markdown",
   "id": "f9ccb2b1",
   "metadata": {},
   "source": [
    "### Boolean-valued index arrays."
   ]
  },
  {
   "cell_type": "markdown",
   "id": "d01eec36",
   "metadata": {},
   "source": [
    " This index method is handy when filtering out elements from an array."
   ]
  },
  {
   "cell_type": "code",
   "execution_count": 64,
   "id": "a8916be3",
   "metadata": {},
   "outputs": [
    {
     "data": {
      "text/plain": [
       "array([False, False, False, False, False, False,  True,  True,  True,\n",
       "        True,  True])"
      ]
     },
     "execution_count": 64,
     "metadata": {},
     "output_type": "execute_result"
    }
   ],
   "source": [
    "a > 0.6"
   ]
  },
  {
   "cell_type": "code",
   "execution_count": 66,
   "id": "43e80ad6",
   "metadata": {},
   "outputs": [
    {
     "data": {
      "text/plain": [
       "array([0.6, 0.7, 0.8, 0.9, 1. ])"
      ]
     },
     "execution_count": 66,
     "metadata": {},
     "output_type": "execute_result"
    }
   ],
   "source": [
    "a[a>0.6]"
   ]
  },
  {
   "cell_type": "markdown",
   "id": "df50faab",
   "metadata": {},
   "source": [
    "**it is possible to assign values to elements selected using fancy indexing and boolean-valued indexing**"
   ]
  },
  {
   "cell_type": "code",
   "execution_count": 67,
   "id": "56b25030",
   "metadata": {},
   "outputs": [],
   "source": [
    "a = np.arange(10)"
   ]
  },
  {
   "cell_type": "code",
   "execution_count": 68,
   "id": "423dbf39",
   "metadata": {},
   "outputs": [
    {
     "data": {
      "text/plain": [
       "array([0, 1, 2, 3, 4, 5, 6, 7, 8, 9])"
      ]
     },
     "execution_count": 68,
     "metadata": {},
     "output_type": "execute_result"
    }
   ],
   "source": [
    "a"
   ]
  },
  {
   "cell_type": "code",
   "execution_count": 69,
   "id": "2c266f83",
   "metadata": {},
   "outputs": [],
   "source": [
    "indices = [2,4,5]"
   ]
  },
  {
   "cell_type": "code",
   "execution_count": 72,
   "id": "1add09b3",
   "metadata": {},
   "outputs": [],
   "source": [
    " a[indices] = -1"
   ]
  },
  {
   "cell_type": "code",
   "execution_count": 73,
   "id": "d817d153",
   "metadata": {},
   "outputs": [
    {
     "data": {
      "text/plain": [
       "array([ 0,  1, -1,  3, -1, -1,  6,  7,  8,  9])"
      ]
     },
     "execution_count": 73,
     "metadata": {},
     "output_type": "execute_result"
    }
   ],
   "source": [
    "a"
   ]
  },
  {
   "cell_type": "markdown",
   "id": "15086ecc",
   "metadata": {},
   "source": [
    "**You can manuplate the 1D array also**"
   ]
  },
  {
   "cell_type": "code",
   "execution_count": 76,
   "id": "00c8bd61",
   "metadata": {},
   "outputs": [],
   "source": [
    "a = np.arange(10)"
   ]
  },
  {
   "cell_type": "code",
   "execution_count": 77,
   "id": "e43cc035",
   "metadata": {},
   "outputs": [],
   "source": [
    "a[a>6] = -1"
   ]
  },
  {
   "cell_type": "code",
   "execution_count": 78,
   "id": "a4ae3835",
   "metadata": {},
   "outputs": [
    {
     "data": {
      "text/plain": [
       "array([ 0,  1,  2,  3,  4,  5,  6, -1, -1, -1])"
      ]
     },
     "execution_count": 78,
     "metadata": {},
     "output_type": "execute_result"
    }
   ],
   "source": [
    "a"
   ]
  },
  {
   "attachments": {
    "image.png": {
     "image/png": "[encoded data removed]"
    }
   },
   "cell_type": "markdown",
   "id": "ba9b839a",
   "metadata": {},
   "source": [
    "![image.png](attachment:image.png)"
   ]
  },
  {
   "cell_type": "code",
   "execution_count": null,
   "id": "9f2ebd00",
   "metadata": {},
   "outputs": [],
   "source": []
  }
 ],
 "metadata": {
  "kernelspec": {
   "display_name": "Python 3",
   "language": "python",
   "name": "python3"
  },
  "language_info": {
   "codemirror_mode": {
    "name": "ipython",
    "version": 3
   },
   "file_extension": ".py",
   "mimetype": "text/x-python",
   "name": "python",
   "nbconvert_exporter": "python",
   "pygments_lexer": "ipython3",
   "version": "3.9.13"
  }
 },
 "nbformat": 4,
 "nbformat_minor": 5
}
